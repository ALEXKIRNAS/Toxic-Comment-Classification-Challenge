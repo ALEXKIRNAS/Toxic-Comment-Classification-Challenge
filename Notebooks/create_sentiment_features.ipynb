{
 "cells": [
  {
   "cell_type": "code",
   "execution_count": 1,
   "metadata": {},
   "outputs": [],
   "source": [
    "import pandas as pd\n",
    "import numpy as np\n",
    "\n",
    "from textblob import TextBlob, Sentence\n",
    "from nltk.corpus import stopwords\n",
    "import collections "
   ]
  },
  {
   "cell_type": "code",
   "execution_count": 2,
   "metadata": {},
   "outputs": [],
   "source": [
    "from nltk.tokenize import TweetTokenizer, sent_tokenize"
   ]
  },
  {
   "cell_type": "code",
   "execution_count": 3,
   "metadata": {},
   "outputs": [],
   "source": [
    "eng_stopwords = set(stopwords.words(\"english\"))"
   ]
  },
  {
   "cell_type": "code",
   "execution_count": 19,
   "metadata": {},
   "outputs": [],
   "source": [
    "train = pd.read_csv('data/train.csv').fillna(' ')\n",
    "test = pd.read_csv('data/test.csv').fillna(' ')"
   ]
  },
  {
   "cell_type": "code",
   "execution_count": 48,
   "metadata": {},
   "outputs": [],
   "source": [
    "repeated_threshold = 15\n",
    "def count_repeated(text):\n",
    "    text_splitted = text.split()\n",
    "    word_counts = collections.Counter(text_splitted)\n",
    "    return sum(count for word, count in sorted(word_counts.items()) if count > repeated_threshold)\n",
    "eng_stopwords = set(stopwords.words(\"english\"))\n",
    "\n",
    "def purity(sentences):\n",
    "    polarities = np.array([TextBlob(x).sentiment.polarity for x in sentences])\n",
    "    return polarities.sum() / np.abs(polarities).sum()"
   ]
  },
  {
   "cell_type": "code",
   "execution_count": 49,
   "metadata": {},
   "outputs": [],
   "source": [
    "def generate_text_features(df):\n",
    "    tdf = pd.DataFrame()\n",
    "    tdf['id'] = df['id']\n",
    "    tdf['text'] = df['comment_text']\n",
    "   \n",
    "    tdf['total_length'] = tdf.text.apply(len)\n",
    "\n",
    "    tdf['capitals'] = tdf.text.apply(lambda comment: sum(1 for c in comment if c.isupper()))\n",
    "    tdf['capitals_vs_length'] = tdf['capitals'] / tdf['total_length']\n",
    "\n",
    "\n",
    "    tdf['stopwords'] = tdf.text.apply(lambda comment: sum(comment.count(w) for w in eng_stopwords))\n",
    "    tdf['stopwords_vs_length'] = tdf['stopwords'] / tdf['total_length']\n",
    "\n",
    "    tdf['exclamation_marks'] = tdf.text.apply(lambda comment: comment.count('!'))\n",
    "    tdf['exclamation_marks_vs_length'] = tdf['exclamation_marks'] / tdf['total_length']\n",
    "\n",
    "\n",
    "    tdf['unique_words'] = tdf.text.apply(\n",
    "        lambda comment: len(set(w for w in comment.split())))\n",
    "    tdf['unique_words_vs_length'] = tdf['unique_words'] / tdf['total_length']\n",
    "\n",
    "    tdf['repeated_words'] = tdf.text.apply(lambda comment: count_repeated(comment))\n",
    "    tdf['repeated_words_vs_length'] = tdf['repeated_words'] / tdf['total_length']\n",
    "    \n",
    "    tdf['sentences'] = tdf.text.apply(lambda comment: sent_tokenize(comment)) \n",
    "    \n",
    "    tdf['polarity_1st_sent'] = tdf.sentences.apply(lambda s: TextBlob(s[0]).sentiment.polarity)    \n",
    "    tdf['subjectivity_1st_sent'] = tdf.sentences.apply(lambda s: TextBlob(s[0]).sentiment.subjectivity)\n",
    "    \n",
    "    tdf['polarity_last_sent'] = tdf.sentences.apply(lambda s: TextBlob(s[-1]).sentiment.polarity)\n",
    "    \n",
    "    tdf['polarity'] = tdf.text.apply(lambda s: TextBlob(s).sentiment.polarity)\n",
    "    tdf['subjectivity'] = tdf.text.apply(lambda s: TextBlob(s).sentiment.subjectivity)\n",
    "    tdf['purity'] = tdf.sentences.apply(purity)\n",
    "    tdf['purity'].fillna(0, inplace=True)\n",
    "    \n",
    "    tdf.rename(columns={'text': 'comment_text'}, inplace=True)\n",
    "    \n",
    "    return tdf\n",
    "    "
   ]
  },
  {
   "cell_type": "code",
   "execution_count": 35,
   "metadata": {},
   "outputs": [],
   "source": [
    "features = [\n",
    "    'id',\n",
    "    'comment_text',\n",
    "    'capitals_vs_length',\n",
    "    'stopwords_vs_length',\n",
    "    'exclamation_marks_vs_length',\n",
    "    'unique_words_vs_length',\n",
    "    'repeated_words_vs_length',\n",
    "    'sentences',\n",
    "    'polarity_1st_sent',\n",
    "    'subjectivity_1st_sent',\n",
    "    'polarity_last_sent',\n",
    "    'polarity',\n",
    "    'subjectivity',\n",
    "    'purity',\n",
    "]"
   ]
  },
  {
   "cell_type": "code",
   "execution_count": 44,
   "metadata": {},
   "outputs": [],
   "source": [
    "train_rez = generate_text_features(train)"
   ]
  },
  {
   "cell_type": "code",
   "execution_count": 45,
   "metadata": {},
   "outputs": [],
   "source": [
    "train_rez[features].to_csv('train_text_features.csv', index=False)"
   ]
  },
  {
   "cell_type": "code",
   "execution_count": 57,
   "metadata": {},
   "outputs": [
    {
     "data": {
      "text/html": [
       "<div>\n",
       "<style>\n",
       "    .dataframe thead tr:only-child th {\n",
       "        text-align: right;\n",
       "    }\n",
       "\n",
       "    .dataframe thead th {\n",
       "        text-align: left;\n",
       "    }\n",
       "\n",
       "    .dataframe tbody tr th {\n",
       "        vertical-align: top;\n",
       "    }\n",
       "</style>\n",
       "<table border=\"1\" class=\"dataframe\">\n",
       "  <thead>\n",
       "    <tr style=\"text-align: right;\">\n",
       "      <th></th>\n",
       "      <th>id</th>\n",
       "      <th>comment_text</th>\n",
       "      <th>sentences</th>\n",
       "      <th>sentences_len</th>\n",
       "    </tr>\n",
       "  </thead>\n",
       "  <tbody>\n",
       "    <tr>\n",
       "      <th>55142</th>\n",
       "      <td>5bbabc3b14cc1f7f</td>\n",
       "      <td></td>\n",
       "      <td>[]</td>\n",
       "      <td>0</td>\n",
       "    </tr>\n",
       "  </tbody>\n",
       "</table>\n",
       "</div>"
      ],
      "text/plain": [
       "                     id comment_text sentences  sentences_len\n",
       "55142  5bbabc3b14cc1f7f                     []              0"
      ]
     },
     "execution_count": 57,
     "metadata": {},
     "output_type": "execute_result"
    }
   ],
   "source": [
    "test[test['sentences_len'] == 0]"
   ]
  },
  {
   "cell_type": "code",
   "execution_count": 60,
   "metadata": {},
   "outputs": [
    {
     "data": {
      "text/plain": [
       "(153163, 4)"
      ]
     },
     "execution_count": 60,
     "metadata": {},
     "output_type": "execute_result"
    }
   ],
   "source": [
    "test[test['id'] != '5bbabc3b14cc1f7f'].shape"
   ]
  },
  {
   "cell_type": "code",
   "execution_count": 8,
   "metadata": {},
   "outputs": [
    {
     "data": {
      "text/plain": [
       "\"This guy is a nothing.  This article shouldn't even exist.\""
      ]
     },
     "execution_count": 8,
     "metadata": {},
     "output_type": "execute_result"
    }
   ],
   "source": [
    "test['comment_text'].sample(1).iloc[0]"
   ]
  },
  {
   "cell_type": "code",
   "execution_count": 9,
   "metadata": {},
   "outputs": [],
   "source": [
    "test_rez = pd.read_csv('test_text_features.csv')"
   ]
  },
  {
   "cell_type": "code",
   "execution_count": 10,
   "metadata": {},
   "outputs": [
    {
     "data": {
      "text/plain": [
       "153164"
      ]
     },
     "execution_count": 10,
     "metadata": {},
     "output_type": "execute_result"
    }
   ],
   "source": [
    "len(test)"
   ]
  },
  {
   "cell_type": "code",
   "execution_count": 11,
   "metadata": {},
   "outputs": [
    {
     "data": {
      "text/plain": [
       "153163"
      ]
     },
     "execution_count": 11,
     "metadata": {},
     "output_type": "execute_result"
    }
   ],
   "source": [
    "len(test_rez)"
   ]
  },
  {
   "cell_type": "code",
   "execution_count": 20,
   "metadata": {},
   "outputs": [],
   "source": [
    "test = test.merge(test_rez[[\n",
    "    'id',\n",
    "    'capitals_vs_length',\n",
    "    'stopwords_vs_length',\n",
    "    'exclamation_marks_vs_length',\n",
    "    'unique_words_vs_length',\n",
    "    'repeated_words_vs_length',\n",
    "    'sentences',\n",
    "    'polarity_1st_sent',\n",
    "    'subjectivity_1st_sent',\n",
    "    'polarity_last_sent',\n",
    "    'polarity',\n",
    "    'subjectivity',\n",
    "    'purity',\n",
    "]], on = 'id', how='left')"
   ]
  },
  {
   "cell_type": "code",
   "execution_count": 34,
   "metadata": {},
   "outputs": [
    {
     "data": {
      "text/plain": [
       "153164"
      ]
     },
     "execution_count": 34,
     "metadata": {},
     "output_type": "execute_result"
    }
   ],
   "source": [
    "len(test)"
   ]
  },
  {
   "cell_type": "code",
   "execution_count": 23,
   "metadata": {},
   "outputs": [],
   "source": [
    "test.fillna(0, inplace=True)"
   ]
  },
  {
   "cell_type": "code",
   "execution_count": 29,
   "metadata": {},
   "outputs": [],
   "source": [
    "test.loc[test['id'] == '5bbabc3b14cc1f7f', 'sentences'].iloc[0] = []"
   ]
  },
  {
   "cell_type": "code",
   "execution_count": 61,
   "metadata": {},
   "outputs": [],
   "source": [
    "test_rez = generate_text_features(test[test['id'] != '5bbabc3b14cc1f7f'])"
   ]
  },
  {
   "cell_type": "code",
   "execution_count": 37,
   "metadata": {},
   "outputs": [],
   "source": [
    "test[features].to_csv('data/test_text_features.csv', index=False)"
   ]
  }
 ],
 "metadata": {
  "kernelspec": {
   "display_name": "Python 3",
   "language": "python",
   "name": "python3"
  },
  "language_info": {
   "codemirror_mode": {
    "name": "ipython",
    "version": 3
   },
   "file_extension": ".py",
   "mimetype": "text/x-python",
   "name": "python",
   "nbconvert_exporter": "python",
   "pygments_lexer": "ipython3",
   "version": "3.5.2"
  }
 },
 "nbformat": 4,
 "nbformat_minor": 2
}
