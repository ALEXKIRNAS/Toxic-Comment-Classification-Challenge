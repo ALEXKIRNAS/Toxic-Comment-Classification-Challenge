{
 "cells": [
  {
   "cell_type": "code",
   "execution_count": null,
   "metadata": {},
   "outputs": [],
   "source": [
    "import pandas as pd\n",
    "import numpy as np\n",
    "import re\n",
    "import lightgbm as lgb\n",
    "import warnings\n",
    "warnings.filterwarnings(action='ignore', category=DeprecationWarning, module='sklearn')\n",
    "from sklearn.preprocessing import StandardScaler\n",
    "from sklearn.model_selection import cross_val_score"
   ]
  },
  {
   "cell_type": "code",
   "execution_count": null,
   "metadata": {},
   "outputs": [],
   "source": [
    "#######################\n",
    "# FEATURE ENGINEERING #\n",
    "#######################\n",
    "\"\"\"\n",
    "Main function\n",
    "Input: pandas Series and a feature engineering function\n",
    "Output: pandas Series\n",
    "\"\"\"\n",
    "def engineer_feature(series, func, normalize=True):\n",
    "    feature = series.apply(func)\n",
    "       \n",
    "    if normalize:\n",
    "        feature = pd.Series(z_normalize(feature.values.reshape(-1,1)).reshape(-1,))\n",
    "    feature.name = func.__name__ \n",
    "    return feature\n",
    "\n",
    "\"\"\"\n",
    "Engineer features\n",
    "Input: pandas Series and a list of feature engineering functions\n",
    "Output: pandas DataFrame\n",
    "\"\"\"\n",
    "def engineer_features(series, funclist, normalize=True):\n",
    "    features = pd.DataFrame()\n",
    "    for func in funclist:\n",
    "        feature = engineer_feature(series, func, normalize)\n",
    "        features[feature.name] = feature\n",
    "    return features"
   ]
  },
  {
   "cell_type": "code",
   "execution_count": null,
   "metadata": {},
   "outputs": [],
   "source": [
    "\"\"\"\n",
    "Normalizer\n",
    "Input: NumPy array\n",
    "Output: NumPy array\n",
    "\"\"\"\n",
    "scaler = StandardScaler()\n",
    "def z_normalize(data):\n",
    "    scaler.fit(data)\n",
    "    return scaler.transform(data)\n",
    "    \n",
    "\"\"\"\n",
    "Feature functions\n",
    "\"\"\"\n",
    "def asterix_freq(x):\n",
    "    return x.count('!')/len(x)\n",
    "\n",
    "def uppercase_freq(x):\n",
    "    return len(re.findall(r'[A-Z]',x))/len(x)"
   ]
  },
  {
   "cell_type": "code",
   "execution_count": null,
   "metadata": {},
   "outputs": [],
   "source": [
    "\"\"\"\n",
    "Import submission and OOF files\n",
    "\"\"\"\n",
    "def get_subs(names):\n",
    "    subs = np.hstack([np.array(pd.read_csv(\"./submission_\" + name + \".csv\")[LABELS]) for name in names])\n",
    "    oofs = np.hstack([np.array(pd.read_csv(\"./train_\" + name + \".csv\")[LABELS]) for name in names])\n",
    "    return subs, oofs"
   ]
  },
  {
   "cell_type": "code",
   "execution_count": null,
   "metadata": {},
   "outputs": [],
   "source": [
    "train = pd.read_csv('./input/train.csv').fillna(' ')\n",
    "test = pd.read_csv('./input/test.csv').fillna(' ')\n",
    "sub = pd.DataFrame.from_dict({'id': test['id']})\n",
    "INPUT_COLUMN = \"comment_text\"\n",
    "LABELS = train.columns[2:]"
   ]
  },
  {
   "cell_type": "code",
   "execution_count": null,
   "metadata": {},
   "outputs": [],
   "source": [
    "# Import submissions and OOF files\n",
    "# gru_106: GRU trained on Fasttext (CV: 0.9893, LB: 0.9865)\n",
    "# gru_107: GRU trained on Fasttext + SpartialDropout(CV: 0.9895, LB: ?)\n",
    "\n",
    "# lstm_100: LSTM trained on Fasttext (CV: 0.9890, LB: 0.9862)\n",
    "# lstm_101: LSTM trained on Fasttext (CV: 0.9891, LB: ?)\n",
    "\n",
    "# nb_logistic_regression_100: NB_LogisticRegression (CV: 0.9873, LB: ?)\n",
    "# nb_logistic_regression_101: NB_LogisticRegression with stop words (CV: 0.9879, LB: ?)\n",
    "\n",
    "# textcnn_100: TextCNN (CV: 0.9790, LB: ?)\n",
    "# lgm_100: LigthGBM (CV: 0.9825, LB: ?)\n",
    "\n",
    "subnames = ['gru_108', 'lstm_101', 'nb_logistic_regression_101', 'textcnn_100', 'lgm_100']\n",
    "subs, oofs = get_subs(subnames)"
   ]
  },
  {
   "cell_type": "code",
   "execution_count": 7,
   "metadata": {},
   "outputs": [
    {
     "name": "stderr",
     "output_type": "stream",
     "text": [
      "/home/azarichkovyi/Projects/Mask_RCNN/env/lib/python3.5/site-packages/sklearn/utils/validation.py:475: DataConversionWarning: Data with input dtype int64 was converted to float64 by StandardScaler.\n",
      "  warnings.warn(msg, DataConversionWarning)\n"
     ]
    }
   ],
   "source": [
    "# Engineer features\n",
    "feature_functions = [len, asterix_freq, uppercase_freq]\n",
    "features = [f.__name__ for f in feature_functions]\n",
    "F_train = engineer_features(train[INPUT_COLUMN], feature_functions)\n",
    "F_test = engineer_features(test[INPUT_COLUMN], feature_functions)\n",
    "\n",
    "X_train = np.hstack([F_train[features].as_matrix(), oofs])\n",
    "X_test = np.hstack([F_test[features].as_matrix(), subs])    "
   ]
  },
  {
   "cell_type": "code",
   "execution_count": null,
   "metadata": {},
   "outputs": [],
   "source": [
    "def get_ligthgbmstacker():\n",
    "    return lgb.LGBMClassifier(max_depth=3,\n",
    "                              metric=\"auc\",\n",
    "                              n_estimators=125,\n",
    "                              num_leaves=10,\n",
    "                              boosting_type=\"gbdt\",\n",
    "                              learning_rate=0.1,\n",
    "                              feature_fraction=0.45,\n",
    "                              colsample_bytree=0.45,\n",
    "                              bagging_fraction=0.8,\n",
    "                              bagging_freq=5,\n",
    "                              reg_lambda=0.2)"
   ]
  },
  {
   "cell_type": "markdown",
   "metadata": {},
   "source": [
    "## CV"
   ]
  },
  {
   "cell_type": "code",
   "execution_count": 8,
   "metadata": {},
   "outputs": [],
   "source": [
    "from sklearn.model_selection import KFold, GridSearchCV\n",
    "from sklearn.metrics import roc_auc_score\n",
    "from tqdm import tqdm\n",
    "kf = KFold(n_splits=5, shuffle=True, random_state=0xCAFFE)"
   ]
  },
  {
   "cell_type": "code",
   "execution_count": null,
   "metadata": {
    "scrolled": false
   },
   "outputs": [],
   "source": [
    "n_jobs = 1\n",
    "\n",
    "for class_name in class_names:\n",
    "    print(class_name)\n",
    "    params = {\n",
    "        'reg_lambda': np.arange(0., 0.5, 0.1),\n",
    "        'max_depth': np.arange(2, 7),\n",
    "    }\n",
    "    \n",
    "    base_estimator = lgb.LGBMClassifier(metric=\"auc\",\n",
    "                                        n_estimators=125,\n",
    "                                        boosting_type=\"gbdt\",\n",
    "                                        learning_rate=0.1,\n",
    "                                        feature_fraction=0.8,\n",
    "                                        num_leaves=20)\n",
    "    gs = GridSearchCV(\n",
    "        estimator=base_estimator, \n",
    "        param_grid=params,\n",
    "        cv=kf,\n",
    "        error_score=1,\n",
    "        scoring='roc_auc',\n",
    "        n_jobs=n_jobs,\n",
    "        verbose=2,\n",
    "    )\n",
    "\n",
    "    # perform grid search on TRAIN dataset ('is_train' filtering)\n",
    "    gs.fit(\n",
    "        X=X_train,\n",
    "        y=np.array(train[class_name]),\n",
    "    )\n",
    "    \n",
    "    best_score = gs.best_score_\n",
    "    best_estimator = gs.best_estimator_\n",
    "    print('ROC-AUC best: {:.4f}'.format(best_score))\n",
    "    print(best_estimator)"
   ]
  },
  {
   "cell_type": "code",
   "execution_count": 9,
   "metadata": {},
   "outputs": [],
   "source": [
    "def training(train_indices, val_indices, class_name, params):\n",
    "    classifier = lgb.LGBMClassifier(metric=\"auc\",\n",
    "                                    boosting_type=\"gbdt\",\n",
    "                                    learning_rate=0.1,\n",
    "                                    **params)\n",
    "    \n",
    "    x_train = X_train[train_indices]\n",
    "    y_train = np.array(train[class_name])[train_indices]\n",
    "    \n",
    "    x_test = X_train[val_indices]\n",
    "    y_test = np.array(train[class_name])[val_indices]\n",
    "    \n",
    "    classifier.fit(x_train, y_train)\n",
    "    \n",
    "    train_proba = classifier.predict_proba(x_train)[:, 1]\n",
    "    val_proba = classifier.predict_proba(x_test)[:, 1]\n",
    "    sub_proba = classifier.predict_proba(X_test)[:, 1]\n",
    "    \n",
    "    train_score = roc_auc_score(y_train, train_proba)\n",
    "    val_score = roc_auc_score(y_test, val_proba)\n",
    "    \n",
    "    return train_score, val_score, val_proba, sub_proba, val_indices"
   ]
  },
  {
   "cell_type": "code",
   "execution_count": 10,
   "metadata": {},
   "outputs": [],
   "source": [
    "submission = pd.DataFrame.from_dict({'id': test['id']})\n",
    "train_submission = pd.DataFrame.from_dict({'id': train['id']})"
   ]
  },
  {
   "cell_type": "code",
   "execution_count": 11,
   "metadata": {},
   "outputs": [],
   "source": [
    "predictors = 5"
   ]
  },
  {
   "cell_type": "code",
   "execution_count": 12,
   "metadata": {},
   "outputs": [
    {
     "name": "stdout",
     "output_type": "stream",
     "text": [
      "Class: toxic\n",
      "\tTrain ROC-AUC: 0.9897111782733923\n",
      "\tVal ROC-AUC: 0.9882707862034122\n",
      "Class: severe_toxic\n",
      "\tTrain ROC-AUC: 0.9940037302119296\n",
      "\tVal ROC-AUC: 0.9918370525766076\n",
      "Class: obscene\n",
      "\tTrain ROC-AUC: 0.9961298543510173\n",
      "\tVal ROC-AUC: 0.9953349240922534\n",
      "Class: threat\n",
      "\tTrain ROC-AUC: 0.9981861585637823\n",
      "\tVal ROC-AUC: 0.9932352425049469\n",
      "Class: insult\n",
      "\tTrain ROC-AUC: 0.9911852193608794\n",
      "\tVal ROC-AUC: 0.9895208183137179\n",
      "Class: identity_hate\n",
      "\tTrain ROC-AUC: 0.9946782463333145\n",
      "\tVal ROC-AUC: 0.9908986432074913\n",
      "Total: 0.9915162444830715\n"
     ]
    }
   ],
   "source": [
    "from tqdm import tqdm\n",
    "import concurrent.futures\n",
    "\n",
    "class_names = ['toxic', 'severe_toxic', 'obscene', 'threat', 'insult', 'identity_hate']\n",
    "\n",
    "cv_params = [\n",
    "    {\n",
    "        'n_estimators': 125,\n",
    "        'reg_lambda': 0.4,\n",
    "        'max_depth': 3,\n",
    "        'num_leaves': 20,\n",
    "        'feature_fraction': 0.8,\n",
    "    }\n",
    "] * 6\n",
    "\n",
    "scores = []\n",
    "for i, class_name in enumerate(class_names):\n",
    "    print('Class: %s' % class_name)\n",
    "    \n",
    "    sub_probas = np.zeros(shape=(len(test), ))\n",
    "    train_probas = np.zeros(shape=(len(train), ))\n",
    "    \n",
    "    kf = KFold(n_splits=predictors, shuffle=True, random_state=0xCAFFE)\n",
    "    \n",
    "    train_scores, val_scores = [], []\n",
    "    with concurrent.futures.ProcessPoolExecutor(max_workers=1) as executor:\n",
    "        \n",
    "        futures = (executor.submit(training, \n",
    "                                   train_indices, \n",
    "                                   val_indices,\n",
    "                                   class_name,\n",
    "                                   cv_params[i]) \n",
    "                   for train_indices, val_indices in kf.split(train))\n",
    "        \n",
    "        for future in concurrent.futures.as_completed(futures):\n",
    "            train_score, val_score, val_proba, sub_proba, val_indices = future.result()\n",
    "            train_scores.append(train_score)\n",
    "            val_scores.append(val_score)\n",
    "            \n",
    "            train_probas[val_indices] += val_proba\n",
    "            sub_probas += sub_proba / predictors\n",
    "    \n",
    "    scores.append(np.mean(val_scores))\n",
    "    print('\\tTrain ROC-AUC: %s' % np.mean(train_scores))\n",
    "    print('\\tVal ROC-AUC: %s' % np.mean(val_scores))\n",
    "    \n",
    "    submission[class_name] = sub_probas\n",
    "    train_submission[class_name] = train_probas\n",
    "    \n",
    "print('Total: %s' % np.mean(scores))"
   ]
  },
  {
   "cell_type": "code",
   "execution_count": null,
   "metadata": {},
   "outputs": [],
   "source": [
    "submission.to_csv('submission_ensemble_006.csv', index=False)\n",
    "train_submission.to_csv('train_ensemble_006.csv', index=False)"
   ]
  },
  {
   "cell_type": "code",
   "execution_count": null,
   "metadata": {},
   "outputs": [],
   "source": [
    "stacker = get_ligthgbmstacker()\n",
    "# Fit and submit\n",
    "scores = []\n",
    "for label in LABELS:\n",
    "    print(label)\n",
    "    score = cross_val_score(stacker, X_train, train[label], cv=5, scoring='roc_auc')\n",
    "    print(\"AUC:\", np.mean(score))\n",
    "    scores.append(np.mean(score))\n",
    "    stacker.fit(X_train, train[label])\n",
    "    sub[label] = stacker.predict_proba(X_test)[:,1]\n",
    "print(\"CV score:\", np.mean(scores))"
   ]
  },
  {
   "cell_type": "code",
   "execution_count": null,
   "metadata": {},
   "outputs": [],
   "source": [
    "sub.to_csv(\"submission_ensemble_005.csv\", index=False)"
   ]
  },
  {
   "cell_type": "code",
   "execution_count": null,
   "metadata": {},
   "outputs": [],
   "source": []
  }
 ],
 "metadata": {
  "kernelspec": {
   "display_name": "Python 3",
   "language": "python",
   "name": "python3"
  },
  "language_info": {
   "codemirror_mode": {
    "name": "ipython",
    "version": 3
   },
   "file_extension": ".py",
   "mimetype": "text/x-python",
   "name": "python",
   "nbconvert_exporter": "python",
   "pygments_lexer": "ipython3",
   "version": "3.5.2"
  }
 },
 "nbformat": 4,
 "nbformat_minor": 2
}
