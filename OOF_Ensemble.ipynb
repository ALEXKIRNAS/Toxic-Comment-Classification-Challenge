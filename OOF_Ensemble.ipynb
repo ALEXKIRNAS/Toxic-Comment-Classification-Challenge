{
 "cells": [
  {
   "cell_type": "code",
   "execution_count": 1,
   "metadata": {},
   "outputs": [],
   "source": [
    "import pandas as pd\n",
    "import numpy as np\n",
    "import re\n",
    "import lightgbm as lgb\n",
    "import warnings\n",
    "warnings.filterwarnings(action='ignore', category=DeprecationWarning, module='sklearn')\n",
    "from sklearn.preprocessing import StandardScaler\n",
    "from sklearn.model_selection import cross_val_score"
   ]
  },
  {
   "cell_type": "code",
   "execution_count": 2,
   "metadata": {},
   "outputs": [],
   "source": [
    "#######################\n",
    "# FEATURE ENGINEERING #\n",
    "#######################\n",
    "\"\"\"\n",
    "Main function\n",
    "Input: pandas Series and a feature engineering function\n",
    "Output: pandas Series\n",
    "\"\"\"\n",
    "def engineer_feature(series, func, normalize=True):\n",
    "    feature = series.apply(func)\n",
    "       \n",
    "    if normalize:\n",
    "        feature = pd.Series(z_normalize(feature.values.reshape(-1,1)).reshape(-1,))\n",
    "    feature.name = func.__name__ \n",
    "    return feature\n",
    "\n",
    "\"\"\"\n",
    "Engineer features\n",
    "Input: pandas Series and a list of feature engineering functions\n",
    "Output: pandas DataFrame\n",
    "\"\"\"\n",
    "def engineer_features(series, funclist, normalize=True):\n",
    "    features = pd.DataFrame()\n",
    "    for func in funclist:\n",
    "        feature = engineer_feature(series, func, normalize)\n",
    "        features[feature.name] = feature\n",
    "    return features"
   ]
  },
  {
   "cell_type": "code",
   "execution_count": 3,
   "metadata": {},
   "outputs": [],
   "source": [
    "\"\"\"\n",
    "Normalizer\n",
    "Input: NumPy array\n",
    "Output: NumPy array\n",
    "\"\"\"\n",
    "scaler = StandardScaler()\n",
    "def z_normalize(data):\n",
    "    scaler.fit(data)\n",
    "    return scaler.transform(data)\n",
    "\n",
    "def count_regexp_occ(regexp=\"\", text=None):\n",
    "    \"\"\" Simple way to get the number of occurence of a regex\"\"\"\n",
    "    return len(re.findall(regexp, text))\n",
    "    \n",
    "\"\"\"\n",
    "Feature functions\n",
    "\"\"\"\n",
    "def asterix_freq(x):\n",
    "    return x.count('!')/len(x)\n",
    "\n",
    "def uppercase_freq(x):\n",
    "    return len(re.findall(r'[A-Z]',x))/len(x)\n",
    "\n",
    "def links(x):\n",
    "    return len(re.findall(\"(http:\\/\\/www\\.|https:\\/\\/www\\.|http:\\/\\/|https:\\/\\/)?[a-z0-9]+([\\-\\.]{1}[a-z0-9]+)*\\.[a-z]{2,5}(:[0-9]{1,5})?(\\/.*)?\",str(x)))\n",
    "\n",
    "def row_text_len(x):\n",
    "    return max(len(x.split()), 1)\n",
    "\n",
    "def raw_char_len(x):\n",
    "    return len(x)\n",
    "\n",
    "# Number of F words - f..k contains folk, fork,\n",
    "def fk_freq(x):\n",
    "    return count_regexp_occ(r\"[Ff]\\S{2}[Kk]\", x) / row_text_len(x)\n",
    "\n",
    "# Number of S word\n",
    "def s_freq(x):\n",
    "    return count_regexp_occ(r\"[Ss]\\S{2}[Kk]\", x) / row_text_len(x)\n",
    "\n",
    "# Number of D words\n",
    "def dk_freq(x):\n",
    "    return count_regexp_occ(r\"[dD]ick\", x) / row_text_len(x)\n",
    "\n",
    "# Number of occurence of You, insulting someone usually needs someone called : you\n",
    "def you_freq(x):\n",
    "    return count_regexp_occ(r\"\\W[Yy]ou\\W\", x) / row_text_len(x)\n",
    "\n",
    "# Just to check you really refered to my mother ;-)\n",
    "def mother_freq(x):\n",
    "    return count_regexp_occ(r\"\\Wmother\\W\", x) / row_text_len(x)\n",
    "\n",
    "# Just checking for toxic 19th century vocabulary\n",
    "def ng_freq(x):\n",
    "    return count_regexp_occ(r\"\\Wnigger\\W\", x) / row_text_len(x)\n",
    "\n",
    "# Some Sentences start with a <:> so it may help\n",
    "def start_with_columns_freq(x):\n",
    "    return count_regexp_occ(r\"^\\:+\", x) / row_text_len(x)\n",
    "\n",
    "def _has_date_long(x):\n",
    "    return count_regexp_occ(r\"\\D\\d{2}:\\d{2}, \\d{1,2} \\w+ \\d{4}\", x)\n",
    "\n",
    "def _has_date_short(x):\n",
    "    return count_regexp_occ(r\"\\D\\d{1,2} \\w+ \\d{4}\", x)\n",
    "\n",
    "# Check for time stamp\n",
    "def has_timestamp(x):\n",
    "    return (_has_date_long(x) + _has_date_short(x) + count_regexp_occ(r\"\\d{2}|:\\d{2}\", x)) != 0\n",
    "\n",
    "# check for mail\n",
    "def has_mail(x):\n",
    "    return count_regexp_occ(r'[a-zA-Z0-9_.+-]+@[a-zA-Z0-9-]+\\.[a-zA-Z0-9-.]+', x) != 0\n",
    "\n",
    "# Looking for words surrounded by == word == or \"\"\"\" word \"\"\"\"\n",
    "def has_emphasize_equal(x):\n",
    "    return count_regexp_occ(r\"\\={2}.+\\={2}\", x) != 0\n",
    "\n",
    "def has_emphasize_quotes(x):\n",
    "    return count_regexp_occ(r\"\\\"{4}\\S+\\\"{4}\", x) != 0"
   ]
  },
  {
   "cell_type": "code",
   "execution_count": 4,
   "metadata": {},
   "outputs": [],
   "source": [
    "\"\"\"\n",
    "Import submission and OOF files\n",
    "\"\"\"\n",
    "def get_subs(names):\n",
    "    subs = np.hstack([np.array(pd.read_csv(\"./submission_\" + name + \".csv\")[LABELS]) for name in names])\n",
    "    oofs = np.hstack([np.array(pd.read_csv(\"./train_\" + name + \".csv\")[LABELS]) for name in names])\n",
    "    return subs, oofs"
   ]
  },
  {
   "cell_type": "code",
   "execution_count": 16,
   "metadata": {},
   "outputs": [],
   "source": [
    "train = pd.read_csv('./input/train_text_features.csv').fillna(' ')\n",
    "test = pd.read_csv('./input/test_text_features.csv').fillna(' ')\n",
    "sub = pd.DataFrame.from_dict({'id': test['id']})\n",
    "INPUT_COLUMN = \"comment_text\"\n",
    "LABELS = ['toxic', 'severe_toxic', 'obscene', 'threat', 'insult', 'identity_hate']"
   ]
  },
  {
   "cell_type": "code",
   "execution_count": 17,
   "metadata": {},
   "outputs": [],
   "source": [
    "new_text_features = ['capitals_vs_length', 'stopwords_vs_length', 'exclamation_marks_vs_length',\n",
    "                     'unique_words_vs_length', 'repeated_words_vs_length', 'polarity_1st_sent', \n",
    "                     'subjectivity_1st_sent', 'polarity_last_sent', 'polarity', 'subjectivity',\n",
    "                     'purity']"
   ]
  },
  {
   "cell_type": "code",
   "execution_count": 20,
   "metadata": {},
   "outputs": [],
   "source": [
    "new_text_features_train = np.array(train[new_text_features])\n",
    "new_text_features_test = np.array(test[new_text_features])"
   ]
  },
  {
   "cell_type": "code",
   "execution_count": 19,
   "metadata": {},
   "outputs": [],
   "source": [
    "# Import submissions and OOF files\n",
    "# gru_106: GRU trained on Fasttext (CV: 0.9893, LB: 0.9865)\n",
    "# gru_107: GRU trained on Fasttext + SpartialDropout(CV: 0.9895, LB: ?)\n",
    "# gru_110: GRU trained on Fasttext (CV: 0.9898, LB: 0.9865)\n",
    "\n",
    "# lstm_100: LSTM trained on Fasttext (CV: 0.9890, LB: 0.9862)\n",
    "# lstm_101: LSTM trained on Fasttext (CV: 0.9891, LB: ?)\n",
    "\n",
    "# nb_logistic_regression_100: NB_LogisticRegression (CV: 0.9873, LB: ?)\n",
    "# nb_logistic_regression_101: NB_LogisticRegression with stop words (CV: 0.9879, LB: 0.9823)\n",
    "\n",
    "# textcnn_100: TextCNN (CV: 0.9790, LB: 0.9827)\n",
    "# lgm_100: LigthGBM (CV: 0.9825, LB: 0.9807)\n",
    "\n",
    "subnames = ['gru_110', 'lstm_101', 'nb_logistic_regression_101', 'lgm_100']\n",
    "subs, oofs = get_subs(subnames)"
   ]
  },
  {
   "cell_type": "code",
   "execution_count": 23,
   "metadata": {},
   "outputs": [
    {
     "name": "stderr",
     "output_type": "stream",
     "text": [
      "/home/azarichkovyi/Projects/Mask_RCNN/env/lib/python3.5/site-packages/sklearn/utils/validation.py:475: DataConversionWarning: Data with input dtype int64 was converted to float64 by StandardScaler.\n",
      "  warnings.warn(msg, DataConversionWarning)\n",
      "/home/azarichkovyi/Projects/Mask_RCNN/env/lib/python3.5/site-packages/sklearn/utils/validation.py:475: DataConversionWarning: Data with input dtype bool was converted to float64 by StandardScaler.\n",
      "  warnings.warn(msg, DataConversionWarning)\n"
     ]
    }
   ],
   "source": [
    "# Engineer features\n",
    "feature_functions = [len, asterix_freq, uppercase_freq, links, row_text_len, raw_char_len,\n",
    "                     fk_freq, s_freq, dk_freq, you_freq, mother_freq, ng_freq, start_with_columns_freq,\n",
    "                     has_timestamp, has_mail, has_emphasize_equal, has_emphasize_quotes]\n",
    "features = [f.__name__ for f in feature_functions]\n",
    "F_train = engineer_features(train[INPUT_COLUMN], feature_functions)\n",
    "F_test = engineer_features(test[INPUT_COLUMN], feature_functions)\n",
    "\n",
    "X_train = np.hstack([F_train[features].as_matrix(), oofs, new_text_features_train])\n",
    "#X_test = np.hstack([F_test[features].as_matrix(), subs, new_text_features_test])    "
   ]
  },
  {
   "cell_type": "code",
   "execution_count": 28,
   "metadata": {},
   "outputs": [],
   "source": [
    "train = pd.read_csv('./input/train.csv').fillna(' ')\n",
    "test = pd.read_csv('./input/test.csv').fillna(' ')"
   ]
  },
  {
   "cell_type": "code",
   "execution_count": null,
   "metadata": {},
   "outputs": [],
   "source": [
    "def get_ligthgbmstacker():\n",
    "    return lgb.LGBMClassifier(max_depth=3,\n",
    "                              metric=\"auc\",\n",
    "                              n_estimators=125,\n",
    "                              num_leaves=10,\n",
    "                              boosting_type=\"gbdt\",\n",
    "                              learning_rate=0.1,\n",
    "                              feature_fraction=0.45,\n",
    "                              colsample_bytree=0.45,\n",
    "                              bagging_fraction=0.8,\n",
    "                              bagging_freq=5,\n",
    "                              reg_lambda=0.2)"
   ]
  },
  {
   "cell_type": "markdown",
   "metadata": {},
   "source": [
    "## CV"
   ]
  },
  {
   "cell_type": "code",
   "execution_count": 30,
   "metadata": {},
   "outputs": [],
   "source": [
    "from sklearn.model_selection import KFold, GridSearchCV\n",
    "from sklearn.metrics import roc_auc_score\n",
    "from tqdm import tqdm\n",
    "kf = KFold(n_splits=5, shuffle=True, random_state=0xCAFFE)"
   ]
  },
  {
   "cell_type": "code",
   "execution_count": 33,
   "metadata": {
    "scrolled": false
   },
   "outputs": [
    {
     "name": "stdout",
     "output_type": "stream",
     "text": [
      "severe_toxic\n",
      "Fitting 5 folds for each of 1 candidates, totalling 5 fits\n",
      "[CV] max_depth=5, reg_lambda=0.4 .....................................\n",
      "[CV] ...................... max_depth=5, reg_lambda=0.4, total=  56.7s\n",
      "[CV] max_depth=5, reg_lambda=0.4 .....................................\n"
     ]
    },
    {
     "name": "stderr",
     "output_type": "stream",
     "text": [
      "[Parallel(n_jobs=1)]: Done   1 out of   1 | elapsed:   56.7s remaining:    0.0s\n"
     ]
    },
    {
     "name": "stdout",
     "output_type": "stream",
     "text": [
      "[CV] ...................... max_depth=5, reg_lambda=0.4, total=  56.8s\n",
      "[CV] max_depth=5, reg_lambda=0.4 .....................................\n",
      "[CV] ...................... max_depth=5, reg_lambda=0.4, total=  57.9s\n",
      "[CV] max_depth=5, reg_lambda=0.4 .....................................\n",
      "[CV] ...................... max_depth=5, reg_lambda=0.4, total=  55.2s\n",
      "[CV] max_depth=5, reg_lambda=0.4 .....................................\n",
      "[CV] ...................... max_depth=5, reg_lambda=0.4, total=  57.0s\n"
     ]
    },
    {
     "name": "stderr",
     "output_type": "stream",
     "text": [
      "[Parallel(n_jobs=1)]: Done   5 out of   5 | elapsed:  4.7min finished\n"
     ]
    },
    {
     "name": "stdout",
     "output_type": "stream",
     "text": [
      "ROC-AUC best: 0.9919\n",
      "LGBMClassifier(boosting_type='gbdt', class_weight=None, colsample_bytree=1.0,\n",
      "        feature_fraction=0.8, learning_rate=0.1, max_depth=5, metric='auc',\n",
      "        min_child_samples=20, min_child_weight=0.001, min_split_gain=0.0,\n",
      "        n_estimators=125, n_jobs=-1, num_leaves=20, objective=None,\n",
      "        random_state=None, reg_alpha=0.0, reg_lambda=0.4, silent=True,\n",
      "        subsample=1.0, subsample_for_bin=200000, subsample_freq=1)\n"
     ]
    }
   ],
   "source": [
    "n_jobs = 1\n",
    "class_names = ['toxic', 'severe_toxic', 'obscene', 'threat', 'insult', 'identity_hate']\n",
    "\n",
    "for class_name in class_names[1:2]:\n",
    "    print(class_name)\n",
    "    params = {\n",
    "        'reg_lambda': [0.4],\n",
    "        'max_depth': [5],\n",
    "    }\n",
    "    \n",
    "    base_estimator = lgb.LGBMClassifier(metric=\"auc\",\n",
    "                                        n_estimators=125,\n",
    "                                        boosting_type=\"gbdt\",\n",
    "                                        learning_rate=0.1,\n",
    "                                        feature_fraction=0.8,\n",
    "                                        num_leaves=20)\n",
    "    gs = GridSearchCV(\n",
    "        estimator=base_estimator, \n",
    "        param_grid=params,\n",
    "        cv=kf,\n",
    "        error_score=1,\n",
    "        scoring='roc_auc',\n",
    "        n_jobs=n_jobs,\n",
    "        verbose=2,\n",
    "    )\n",
    "\n",
    "    # perform grid search on TRAIN dataset ('is_train' filtering)\n",
    "    gs.fit(\n",
    "        X=X_train,\n",
    "        y=np.array(train[class_name]),\n",
    "    )\n",
    "    \n",
    "    best_score = gs.best_score_\n",
    "    best_estimator = gs.best_estimator_\n",
    "    print('ROC-AUC best: {:.4f}'.format(best_score))\n",
    "    print(best_estimator)"
   ]
  },
  {
   "cell_type": "code",
   "execution_count": null,
   "metadata": {},
   "outputs": [],
   "source": [
    "def training(train_indices, val_indices, class_name, params):\n",
    "    classifier = lgb.LGBMClassifier(metric=\"auc\",\n",
    "                                    boosting_type=\"gbdt\",\n",
    "                                    learning_rate=0.1,\n",
    "                                    **params)\n",
    "    \n",
    "    x_train = X_train[train_indices]\n",
    "    y_train = np.array(train[class_name])[train_indices]\n",
    "    \n",
    "    x_test = X_train[val_indices]\n",
    "    y_test = np.array(train[class_name])[val_indices]\n",
    "    \n",
    "    classifier.fit(x_train, y_train)\n",
    "    \n",
    "    train_proba = classifier.predict_proba(x_train)[:, 1]\n",
    "    val_proba = classifier.predict_proba(x_test)[:, 1]\n",
    "    sub_proba = classifier.predict_proba(X_test)[:, 1]\n",
    "    \n",
    "    train_score = roc_auc_score(y_train, train_proba)\n",
    "    val_score = roc_auc_score(y_test, val_proba)\n",
    "    \n",
    "    return train_score, val_score, val_proba, sub_proba, val_indices"
   ]
  },
  {
   "cell_type": "code",
   "execution_count": null,
   "metadata": {},
   "outputs": [],
   "source": [
    "submission = pd.DataFrame.from_dict({'id': test['id']})\n",
    "train_submission = pd.DataFrame.from_dict({'id': train['id']})"
   ]
  },
  {
   "cell_type": "code",
   "execution_count": null,
   "metadata": {},
   "outputs": [],
   "source": [
    "predictors = 5"
   ]
  },
  {
   "cell_type": "code",
   "execution_count": null,
   "metadata": {},
   "outputs": [],
   "source": [
    "from tqdm import tqdm\n",
    "import concurrent.futures\n",
    "\n",
    "class_names = ['toxic', 'severe_toxic', 'obscene', 'threat', 'insult', 'identity_hate']\n",
    "\n",
    "cv_params = [\n",
    "    {\n",
    "        'n_estimators': 125,\n",
    "        'reg_lambda': 0.4,\n",
    "        'max_depth': 3,\n",
    "        'num_leaves': 20,\n",
    "        'feature_fraction': 0.8,\n",
    "    }\n",
    "] * 6\n",
    "\n",
    "scores = []\n",
    "for i, class_name in enumerate(class_names):\n",
    "    print('Class: %s' % class_name)\n",
    "    \n",
    "    sub_probas = np.zeros(shape=(len(test), ))\n",
    "    train_probas = np.zeros(shape=(len(train), ))\n",
    "    \n",
    "    kf = KFold(n_splits=predictors, shuffle=True, random_state=0xCAFFE)\n",
    "    \n",
    "    train_scores, val_scores = [], []\n",
    "    with concurrent.futures.ProcessPoolExecutor(max_workers=1) as executor:\n",
    "        \n",
    "        futures = (executor.submit(training, \n",
    "                                   train_indices, \n",
    "                                   val_indices,\n",
    "                                   class_name,\n",
    "                                   cv_params[i]) \n",
    "                   for train_indices, val_indices in kf.split(train))\n",
    "        \n",
    "        for future in concurrent.futures.as_completed(futures):\n",
    "            train_score, val_score, val_proba, sub_proba, val_indices = future.result()\n",
    "            train_scores.append(train_score)\n",
    "            val_scores.append(val_score)\n",
    "            \n",
    "            train_probas[val_indices] += val_proba\n",
    "            sub_probas += sub_proba / predictors\n",
    "    \n",
    "    scores.append(np.mean(val_scores))\n",
    "    print('\\tTrain ROC-AUC: %s' % np.mean(train_scores))\n",
    "    print('\\tVal ROC-AUC: %s' % np.mean(val_scores))\n",
    "    \n",
    "    submission[class_name] = sub_probas\n",
    "    train_submission[class_name] = train_probas\n",
    "    \n",
    "print('Total: %s' % np.mean(scores))"
   ]
  },
  {
   "cell_type": "code",
   "execution_count": null,
   "metadata": {},
   "outputs": [],
   "source": [
    "submission.to_csv('submission_ensemble_007.csv', index=False)\n",
    "train_submission.to_csv('train_ensemble_007.csv', index=False)"
   ]
  },
  {
   "cell_type": "code",
   "execution_count": null,
   "metadata": {},
   "outputs": [],
   "source": []
  }
 ],
 "metadata": {
  "kernelspec": {
   "display_name": "Python 3",
   "language": "python",
   "name": "python3"
  },
  "language_info": {
   "codemirror_mode": {
    "name": "ipython",
    "version": 3
   },
   "file_extension": ".py",
   "mimetype": "text/x-python",
   "name": "python",
   "nbconvert_exporter": "python",
   "pygments_lexer": "ipython3",
   "version": "3.5.2"
  }
 },
 "nbformat": 4,
 "nbformat_minor": 2
}
