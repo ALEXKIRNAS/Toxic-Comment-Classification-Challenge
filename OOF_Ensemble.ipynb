{
 "cells": [
  {
   "cell_type": "code",
   "execution_count": 1,
   "metadata": {
    "collapsed": true
   },
   "outputs": [],
   "source": [
    "import pandas as pd\n",
    "import numpy as np\n",
    "import re\n",
    "import lightgbm as lgb\n",
    "import warnings\n",
    "warnings.filterwarnings(action='ignore', category=DeprecationWarning, module='sklearn')\n",
    "from sklearn.preprocessing import StandardScaler\n",
    "from sklearn.model_selection import cross_val_score"
   ]
  },
  {
   "cell_type": "code",
   "execution_count": 2,
   "metadata": {
    "collapsed": true
   },
   "outputs": [],
   "source": [
    "#######################\n",
    "# FEATURE ENGINEERING #\n",
    "#######################\n",
    "\"\"\"\n",
    "Main function\n",
    "Input: pandas Series and a feature engineering function\n",
    "Output: pandas Series\n",
    "\"\"\"\n",
    "def engineer_feature(series, func, normalize=True):\n",
    "    feature = series.apply(func)\n",
    "       \n",
    "    if normalize:\n",
    "        feature = pd.Series(z_normalize(feature.values.reshape(-1,1)).reshape(-1,))\n",
    "    feature.name = func.__name__ \n",
    "    return feature\n",
    "\n",
    "\"\"\"\n",
    "Engineer features\n",
    "Input: pandas Series and a list of feature engineering functions\n",
    "Output: pandas DataFrame\n",
    "\"\"\"\n",
    "def engineer_features(series, funclist, normalize=True):\n",
    "    features = pd.DataFrame()\n",
    "    for func in funclist:\n",
    "        feature = engineer_feature(series, func, normalize)\n",
    "        features[feature.name] = feature\n",
    "    return features"
   ]
  },
  {
   "cell_type": "code",
   "execution_count": 3,
   "metadata": {
    "collapsed": true
   },
   "outputs": [],
   "source": [
    "\"\"\"\n",
    "Normalizer\n",
    "Input: NumPy array\n",
    "Output: NumPy array\n",
    "\"\"\"\n",
    "scaler = StandardScaler()\n",
    "def z_normalize(data):\n",
    "    scaler.fit(data)\n",
    "    return scaler.transform(data)\n",
    "    \n",
    "\"\"\"\n",
    "Feature functions\n",
    "\"\"\"\n",
    "def asterix_freq(x):\n",
    "    return x.count('!')/len(x)\n",
    "\n",
    "def uppercase_freq(x):\n",
    "    return len(re.findall(r'[A-Z]',x))/len(x)"
   ]
  },
  {
   "cell_type": "code",
   "execution_count": 4,
   "metadata": {
    "collapsed": true
   },
   "outputs": [],
   "source": [
    "\"\"\"\n",
    "Import submission and OOF files\n",
    "\"\"\"\n",
    "def get_subs(names):\n",
    "    subs = np.hstack([np.array(pd.read_csv(\"./submission_\" + name + \".csv\")[LABELS]) for name in names])\n",
    "    oofs = np.hstack([np.array(pd.read_csv(\"./train_\" + name + \".csv\")[LABELS]) for name in names])\n",
    "    return subs, oofs"
   ]
  },
  {
   "cell_type": "code",
   "execution_count": 5,
   "metadata": {
    "collapsed": true
   },
   "outputs": [],
   "source": [
    "train = pd.read_csv('./input/train.csv').fillna(' ')\n",
    "test = pd.read_csv('./input/test.csv').fillna(' ')\n",
    "sub = pd.DataFrame.from_dict({'id': test['id']})\n",
    "INPUT_COLUMN = \"comment_text\"\n",
    "LABELS = train.columns[2:]"
   ]
  },
  {
   "cell_type": "code",
   "execution_count": 6,
   "metadata": {
    "collapsed": true
   },
   "outputs": [],
   "source": [
    "# Import submissions and OOF files\n",
    "# gru_106: GRU trained on Fasttext (CV: 0.9893, LB: 0.9865)\n",
    "# lstm_100: LSTM trained on Fasttext (CV: 0.9890, LB: 0.9862)\n",
    "# nb_logistic_regression_100: NB_LogisticRegression (CV: 0.9873, LB: ?)\n",
    "# textcnn_100: TextCNN (CV: 0.9790, LB: ?)\n",
    "subnames = ['gru_106', 'lstm_100', 'nb_logistic_regression_100', 'textcnn_100']\n",
    "subs, oofs = get_subs(subnames)"
   ]
  },
  {
   "cell_type": "code",
   "execution_count": 7,
   "metadata": {
    "collapsed": false
   },
   "outputs": [
    {
     "name": "stderr",
     "output_type": "stream",
     "text": [
      "/home/azarichkovyi/Projects/Mask_RCNN/env/lib/python3.5/site-packages/sklearn/utils/validation.py:475: DataConversionWarning: Data with input dtype int64 was converted to float64 by StandardScaler.\n",
      "  warnings.warn(msg, DataConversionWarning)\n"
     ]
    }
   ],
   "source": [
    "# Engineer features\n",
    "feature_functions = [len, asterix_freq, uppercase_freq]\n",
    "features = [f.__name__ for f in feature_functions]\n",
    "F_train = engineer_features(train[INPUT_COLUMN], feature_functions)\n",
    "F_test = engineer_features(test[INPUT_COLUMN], feature_functions)\n",
    "\n",
    "X_train = np.hstack([F_train[features].as_matrix(), oofs])\n",
    "X_test = np.hstack([F_test[features].as_matrix(), subs])    "
   ]
  },
  {
   "cell_type": "code",
   "execution_count": 8,
   "metadata": {
    "collapsed": true
   },
   "outputs": [],
   "source": [
    "def get_ligthgbmstacker():\n",
    "    return lgb.LGBMClassifier(max_depth=3,\n",
    "                              metric=\"auc\",\n",
    "                              n_estimators=125,\n",
    "                              num_leaves=10,\n",
    "                              boosting_type=\"gbdt\",\n",
    "                              learning_rate=0.1,\n",
    "                              feature_fraction=0.45,\n",
    "                              colsample_bytree=0.45,\n",
    "                              bagging_fraction=0.8,\n",
    "                              bagging_freq=5,\n",
    "                              reg_lambda=0.2)"
   ]
  },
  {
   "cell_type": "code",
   "execution_count": 9,
   "metadata": {
    "collapsed": true
   },
   "outputs": [],
   "source": [
    "def get_catbooststacker():\n",
    "    from catboost import CatBoostClassifier\n",
    "    return CatBoostClassifier(verbose=False)"
   ]
  },
  {
   "cell_type": "code",
   "execution_count": 10,
   "metadata": {
    "collapsed": false
   },
   "outputs": [
    {
     "name": "stdout",
     "output_type": "stream",
     "text": [
      "toxic\n",
      "AUC: 0.988153335340402\n",
      "severe_toxic\n",
      "AUC: 0.9918707421210826\n",
      "obscene\n",
      "AUC: 0.9952986393184855\n",
      "threat\n",
      "AUC: 0.9928283419175848\n",
      "insult\n",
      "AUC: 0.989678506253948\n",
      "identity_hate\n",
      "AUC: 0.9902948739890981\n",
      "CV score: 0.9913540731567668\n"
     ]
    }
   ],
   "source": [
    "stacker = get_ligthgbmstacker()\n",
    "# Fit and submit\n",
    "scores = []\n",
    "for label in LABELS:\n",
    "    print(label)\n",
    "    score = cross_val_score(stacker, X_train, train[label], cv=5, scoring='roc_auc')\n",
    "    print(\"AUC:\", np.mean(score))\n",
    "    scores.append(np.mean(score))\n",
    "    stacker.fit(X_train, train[label])\n",
    "    sub[label] = stacker.predict_proba(X_test)[:,1]\n",
    "print(\"CV score:\", np.mean(scores))"
   ]
  },
  {
   "cell_type": "code",
   "execution_count": 10,
   "metadata": {
    "collapsed": true
   },
   "outputs": [],
   "source": [
    "sub.to_csv(\"submission_ensemble_005.csv\", index=False)"
   ]
  },
  {
   "cell_type": "code",
   "execution_count": null,
   "metadata": {
    "collapsed": true
   },
   "outputs": [],
   "source": []
  }
 ],
 "metadata": {
  "kernelspec": {
   "display_name": "Python 3",
   "language": "python",
   "name": "python3"
  },
  "language_info": {
   "codemirror_mode": {
    "name": "ipython",
    "version": 3
   },
   "file_extension": ".py",
   "mimetype": "text/x-python",
   "name": "python",
   "nbconvert_exporter": "python",
   "pygments_lexer": "ipython3",
   "version": "3.6.0"
  }
 },
 "nbformat": 4,
 "nbformat_minor": 2
}
